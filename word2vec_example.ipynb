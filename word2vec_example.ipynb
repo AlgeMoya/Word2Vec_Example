{
 "cells": [
  {
   "cell_type": "code",
   "execution_count": 1,
   "metadata": {},
   "outputs": [],
   "source": [
    "import pandas as pd\n",
    "import matplotlib.pyplot as plt\n",
    "import re\n",
    "import urllib.request\n",
    "from gensim.models.word2vec import Word2Vec\n",
    "from konlpy.tag import Okt"
   ]
  },
  {
   "cell_type": "code",
   "execution_count": 2,
   "metadata": {},
   "outputs": [
    {
     "data": {
      "text/plain": [
       "('ratings.txt', <http.client.HTTPMessage at 0x1903e084648>)"
      ]
     },
     "execution_count": 2,
     "metadata": {},
     "output_type": "execute_result"
    }
   ],
   "source": [
    "urllib.request.urlretrieve(\"https://raw.githubusercontent.com/e9t/nsmc/master/ratings.txt\", filename=\"ratings.txt\")"
   ]
  },
  {
   "cell_type": "code",
   "execution_count": 3,
   "metadata": {},
   "outputs": [],
   "source": [
    "train_data = pd.read_table('ratings.txt')"
   ]
  },
  {
   "cell_type": "code",
   "execution_count": 4,
   "metadata": {},
   "outputs": [
    {
     "data": {
      "text/html": [
       "<div>\n",
       "<style scoped>\n",
       "    .dataframe tbody tr th:only-of-type {\n",
       "        vertical-align: middle;\n",
       "    }\n",
       "\n",
       "    .dataframe tbody tr th {\n",
       "        vertical-align: top;\n",
       "    }\n",
       "\n",
       "    .dataframe thead th {\n",
       "        text-align: right;\n",
       "    }\n",
       "</style>\n",
       "<table border=\"1\" class=\"dataframe\">\n",
       "  <thead>\n",
       "    <tr style=\"text-align: right;\">\n",
       "      <th></th>\n",
       "      <th>id</th>\n",
       "      <th>document</th>\n",
       "      <th>label</th>\n",
       "    </tr>\n",
       "  </thead>\n",
       "  <tbody>\n",
       "    <tr>\n",
       "      <th>0</th>\n",
       "      <td>8112052</td>\n",
       "      <td>어릴때보고 지금다시봐도 재밌어요ㅋㅋ</td>\n",
       "      <td>1</td>\n",
       "    </tr>\n",
       "    <tr>\n",
       "      <th>1</th>\n",
       "      <td>8132799</td>\n",
       "      <td>디자인을 배우는 학생으로, 외국디자이너와 그들이 일군 전통을 통해 발전해가는 문화산...</td>\n",
       "      <td>1</td>\n",
       "    </tr>\n",
       "    <tr>\n",
       "      <th>2</th>\n",
       "      <td>4655635</td>\n",
       "      <td>폴리스스토리 시리즈는 1부터 뉴까지 버릴께 하나도 없음.. 최고.</td>\n",
       "      <td>1</td>\n",
       "    </tr>\n",
       "    <tr>\n",
       "      <th>3</th>\n",
       "      <td>9251303</td>\n",
       "      <td>와.. 연기가 진짜 개쩔구나.. 지루할거라고 생각했는데 몰입해서 봤다.. 그래 이런...</td>\n",
       "      <td>1</td>\n",
       "    </tr>\n",
       "    <tr>\n",
       "      <th>4</th>\n",
       "      <td>10067386</td>\n",
       "      <td>안개 자욱한 밤하늘에 떠 있는 초승달 같은 영화.</td>\n",
       "      <td>1</td>\n",
       "    </tr>\n",
       "  </tbody>\n",
       "</table>\n",
       "</div>"
      ],
      "text/plain": [
       "         id                                           document  label\n",
       "0   8112052                                어릴때보고 지금다시봐도 재밌어요ㅋㅋ      1\n",
       "1   8132799  디자인을 배우는 학생으로, 외국디자이너와 그들이 일군 전통을 통해 발전해가는 문화산...      1\n",
       "2   4655635               폴리스스토리 시리즈는 1부터 뉴까지 버릴께 하나도 없음.. 최고.      1\n",
       "3   9251303  와.. 연기가 진짜 개쩔구나.. 지루할거라고 생각했는데 몰입해서 봤다.. 그래 이런...      1\n",
       "4  10067386                        안개 자욱한 밤하늘에 떠 있는 초승달 같은 영화.      1"
      ]
     },
     "execution_count": 4,
     "metadata": {},
     "output_type": "execute_result"
    }
   ],
   "source": [
    "train_data[:5] # 상위 5개 출력"
   ]
  },
  {
   "cell_type": "code",
   "execution_count": 5,
   "metadata": {},
   "outputs": [
    {
     "name": "stdout",
     "output_type": "stream",
     "text": [
      "200000\n"
     ]
    }
   ],
   "source": [
    "print(len(train_data)) # 리뷰 개수 출력"
   ]
  },
  {
   "cell_type": "code",
   "execution_count": 6,
   "metadata": {},
   "outputs": [
    {
     "name": "stdout",
     "output_type": "stream",
     "text": [
      "True\n"
     ]
    }
   ],
   "source": [
    "# NULL 값 존재 유무\n",
    "print(train_data.isnull().values.any())"
   ]
  },
  {
   "cell_type": "code",
   "execution_count": null,
   "metadata": {},
   "outputs": [],
   "source": []
  },
  {
   "cell_type": "code",
   "execution_count": 7,
   "metadata": {},
   "outputs": [
    {
     "name": "stdout",
     "output_type": "stream",
     "text": [
      "False\n"
     ]
    }
   ],
   "source": [
    "train_data = train_data.dropna(how = 'any') # Null 값이 존재하는 행 제거\n",
    "print(train_data.isnull().values.any()) # Null 값이 존재하는지 확인"
   ]
  },
  {
   "cell_type": "code",
   "execution_count": 8,
   "metadata": {},
   "outputs": [
    {
     "name": "stdout",
     "output_type": "stream",
     "text": [
      "199992\n"
     ]
    }
   ],
   "source": [
    "print(len(train_data)) # 리뷰 개수 출력"
   ]
  },
  {
   "cell_type": "code",
   "execution_count": 9,
   "metadata": {},
   "outputs": [
    {
     "name": "stderr",
     "output_type": "stream",
     "text": [
      "c:\\ProgramData\\Anaconda3\\envs\\py37\\lib\\site-packages\\ipykernel_launcher.py:2: FutureWarning: The default value of regex will change from True to False in a future version.\n",
      "  \n"
     ]
    }
   ],
   "source": [
    "# 정규 표현식을 통한 한글 외 문자 제거\n",
    "train_data['document'] = train_data['document'].str.replace(\"[^ㄱ-ㅎㅏ-ㅣ가-힣 ]\",\"\")"
   ]
  },
  {
   "cell_type": "code",
   "execution_count": 10,
   "metadata": {},
   "outputs": [
    {
     "data": {
      "text/html": [
       "<div>\n",
       "<style scoped>\n",
       "    .dataframe tbody tr th:only-of-type {\n",
       "        vertical-align: middle;\n",
       "    }\n",
       "\n",
       "    .dataframe tbody tr th {\n",
       "        vertical-align: top;\n",
       "    }\n",
       "\n",
       "    .dataframe thead th {\n",
       "        text-align: right;\n",
       "    }\n",
       "</style>\n",
       "<table border=\"1\" class=\"dataframe\">\n",
       "  <thead>\n",
       "    <tr style=\"text-align: right;\">\n",
       "      <th></th>\n",
       "      <th>id</th>\n",
       "      <th>document</th>\n",
       "      <th>label</th>\n",
       "    </tr>\n",
       "  </thead>\n",
       "  <tbody>\n",
       "    <tr>\n",
       "      <th>0</th>\n",
       "      <td>8112052</td>\n",
       "      <td>어릴때보고 지금다시봐도 재밌어요ㅋㅋ</td>\n",
       "      <td>1</td>\n",
       "    </tr>\n",
       "    <tr>\n",
       "      <th>1</th>\n",
       "      <td>8132799</td>\n",
       "      <td>디자인을 배우는 학생으로 외국디자이너와 그들이 일군 전통을 통해 발전해가는 문화산업...</td>\n",
       "      <td>1</td>\n",
       "    </tr>\n",
       "    <tr>\n",
       "      <th>2</th>\n",
       "      <td>4655635</td>\n",
       "      <td>폴리스스토리 시리즈는 부터 뉴까지 버릴께 하나도 없음 최고</td>\n",
       "      <td>1</td>\n",
       "    </tr>\n",
       "    <tr>\n",
       "      <th>3</th>\n",
       "      <td>9251303</td>\n",
       "      <td>와 연기가 진짜 개쩔구나 지루할거라고 생각했는데 몰입해서 봤다 그래 이런게 진짜 영화지</td>\n",
       "      <td>1</td>\n",
       "    </tr>\n",
       "    <tr>\n",
       "      <th>4</th>\n",
       "      <td>10067386</td>\n",
       "      <td>안개 자욱한 밤하늘에 떠 있는 초승달 같은 영화</td>\n",
       "      <td>1</td>\n",
       "    </tr>\n",
       "  </tbody>\n",
       "</table>\n",
       "</div>"
      ],
      "text/plain": [
       "         id                                           document  label\n",
       "0   8112052                                어릴때보고 지금다시봐도 재밌어요ㅋㅋ      1\n",
       "1   8132799  디자인을 배우는 학생으로 외국디자이너와 그들이 일군 전통을 통해 발전해가는 문화산업...      1\n",
       "2   4655635                   폴리스스토리 시리즈는 부터 뉴까지 버릴께 하나도 없음 최고      1\n",
       "3   9251303   와 연기가 진짜 개쩔구나 지루할거라고 생각했는데 몰입해서 봤다 그래 이런게 진짜 영화지      1\n",
       "4  10067386                         안개 자욱한 밤하늘에 떠 있는 초승달 같은 영화      1"
      ]
     },
     "execution_count": 10,
     "metadata": {},
     "output_type": "execute_result"
    }
   ],
   "source": [
    "train_data[:5] # 상위 5개 출력"
   ]
  },
  {
   "cell_type": "code",
   "execution_count": 11,
   "metadata": {},
   "outputs": [],
   "source": [
    "# 불용어 정의\n",
    "stopwords = ['의','가','이','은','들','는','좀','잘','걍','과','도','를','으로','자','에','와','한','하다']\n",
    "\n",
    "# 형태소 분석기 OKT를 사용한 토큰화 작업 (다소 시간 소요)\n",
    "okt = Okt()\n",
    "\n",
    "tokenized_data = []\n",
    "for sentence in train_data['document']:\n",
    "    tokenized_sentence = okt.morphs(sentence, stem=True) # 토큰화\n",
    "    stopwords_removed_sentence = [word for word in tokenized_sentence if not word in stopwords] # 불용어 제거\n",
    "    tokenized_data.append(stopwords_removed_sentence)"
   ]
  },
  {
   "cell_type": "code",
   "execution_count": 12,
   "metadata": {},
   "outputs": [
    {
     "name": "stdout",
     "output_type": "stream",
     "text": [
      "리뷰의 최대 길이 : 72\n",
      "리뷰의 평균 길이 : 10.716703668146726\n"
     ]
    },
    {
     "data": {
      "image/png": "[encoded data removed]",
      "text/plain": [
       "<Figure size 640x480 with 1 Axes>"
      ]
     },
     "metadata": {},
     "output_type": "display_data"
    }
   ],
   "source": [
    "# 리뷰 길이 분포 확인\n",
    "print('리뷰의 최대 길이 :',max(len(review) for review in tokenized_data))\n",
    "print('리뷰의 평균 길이 :',sum(map(len, tokenized_data))/len(tokenized_data))\n",
    "plt.hist([len(review) for review in tokenized_data], bins=50)\n",
    "plt.xlabel('length of samples')\n",
    "plt.ylabel('number of samples')\n",
    "plt.show()"
   ]
  },
  {
   "cell_type": "code",
   "execution_count": 13,
   "metadata": {},
   "outputs": [
    {
     "data": {
      "text/plain": [
       "[['어리다', '때', '보고', '지금', '다시', '보다', '재밌다', 'ㅋㅋ'],\n",
       " ['디자인',\n",
       "  '을',\n",
       "  '배우다',\n",
       "  '학생',\n",
       "  '외국',\n",
       "  '디자이너',\n",
       "  '그',\n",
       "  '일군',\n",
       "  '전통',\n",
       "  '을',\n",
       "  '통해',\n",
       "  '발전',\n",
       "  '문화',\n",
       "  '산업',\n",
       "  '부럽다',\n",
       "  '사실',\n",
       "  '우리나라',\n",
       "  '에서도',\n",
       "  '그',\n",
       "  '어렵다',\n",
       "  '시절',\n",
       "  '끝',\n",
       "  '까지',\n",
       "  '열정',\n",
       "  '을',\n",
       "  '지키다',\n",
       "  '노라노',\n",
       "  '같다',\n",
       "  '전통',\n",
       "  '있다',\n",
       "  '저',\n",
       "  '같다',\n",
       "  '사람',\n",
       "  '꿈',\n",
       "  '을',\n",
       "  '꾸다',\n",
       "  '이루다',\n",
       "  '나가다',\n",
       "  '수',\n",
       "  '있다',\n",
       "  '것',\n",
       "  '감사하다'],\n",
       " ['폴리스스토리', '시리즈', '부터', '뉴', '까지', '버리다', '하나', '없다', '최고'],\n",
       " ['오다',\n",
       "  '연기',\n",
       "  '진짜',\n",
       "  '개',\n",
       "  '쩔다',\n",
       "  '지루하다',\n",
       "  '생각',\n",
       "  '몰입',\n",
       "  '보다',\n",
       "  '그렇다',\n",
       "  '이렇다',\n",
       "  '진짜',\n",
       "  '영화',\n",
       "  '지'],\n",
       " ['안개', '자욱하다', '밤하늘', '뜨다', '있다', '초승달', '같다', '영화']]"
      ]
     },
     "execution_count": 13,
     "metadata": {},
     "output_type": "execute_result"
    }
   ],
   "source": [
    "tokenized_data[:5] # 상위 5개 출력"
   ]
  },
  {
   "cell_type": "code",
   "execution_count": 14,
   "metadata": {},
   "outputs": [],
   "source": [
    "from gensim.models import Word2Vec\n",
    "model = Word2Vec(sentences = tokenized_data, vector_size = 100, window = 5, min_count = 5, workers = 4, sg = 0)"
   ]
  },
  {
   "cell_type": "code",
   "execution_count": 15,
   "metadata": {},
   "outputs": [
    {
     "data": {
      "text/plain": [
       "(16477, 100)"
      ]
     },
     "execution_count": 15,
     "metadata": {},
     "output_type": "execute_result"
    }
   ],
   "source": [
    "# 완성된 임베딩 매트릭스의 크기 확인\n",
    "model.wv.vectors.shape"
   ]
  },
  {
   "cell_type": "code",
   "execution_count": 16,
   "metadata": {},
   "outputs": [
    {
     "data": {
      "text/plain": [
       "numpy.ndarray"
      ]
     },
     "execution_count": 16,
     "metadata": {},
     "output_type": "execute_result"
    }
   ],
   "source": [
    "type(model.wv.vectors)"
   ]
  },
  {
   "cell_type": "code",
   "execution_count": 17,
   "metadata": {},
   "outputs": [
    {
     "name": "stdout",
     "output_type": "stream",
     "text": [
      "[('한석규', 0.8807841539382935), ('안성기', 0.8667243719100952), ('최민수', 0.8663707971572876), ('박중훈', 0.8380506038665771), ('송강호', 0.8326971530914307), ('유다인', 0.8319501876831055), ('윤제문', 0.8312363028526306), ('미스캐스팅', 0.8226678967475891), ('유건', 0.8213309645652771), ('류덕환', 0.8209368586540222)]\n"
     ]
    }
   ],
   "source": [
    "# '최민식'과 유사한 단어들 뽑아보기\n",
    "print(model.wv.most_similar(\"최민식\"))"
   ]
  },
  {
   "cell_type": "code",
   "execution_count": 18,
   "metadata": {},
   "outputs": [
    {
     "name": "stdout",
     "output_type": "stream",
     "text": [
      "[('슬래셔', 0.8731054663658142), ('무협', 0.8656522631645203), ('느와르', 0.8486741185188293), ('정통', 0.8438192009925842), ('호러', 0.843562126159668), ('물의', 0.827595591545105), ('무비', 0.8091820478439331), ('블록버스터', 0.8089799880981445), ('최고봉', 0.8033011555671692), ('하이', 0.8014252185821533)]\n"
     ]
    }
   ],
   "source": [
    "# '히어로'과 유사한 단어들 뽑아보기\n",
    "print(model.wv.most_similar(\"히어로\"))"
   ]
  },
  {
   "cell_type": "code",
   "execution_count": 19,
   "metadata": {},
   "outputs": [],
   "source": [
    "from sklearn.cluster import KMeans\n",
    "import numpy as np\n",
    "# 랜덤하게 실행되는 부분들에 대해 다음에 실행해도 동일한 결과를 얻기 위해 설정\n",
    "seed = 11\n",
    "rng = np.random.default_rng(seed)\n",
    "\n",
    "k = 5\n",
    "kmeans = KMeans(n_clusters=k, random_state=seed) # k-평균++ 초기화 사용"
   ]
  },
  {
   "cell_type": "code",
   "execution_count": 20,
   "metadata": {},
   "outputs": [
    {
     "data": {
      "text/plain": [
       "array([1, 2, 3, ..., 4, 4, 4])"
      ]
     },
     "execution_count": 20,
     "metadata": {},
     "output_type": "execute_result"
    }
   ],
   "source": [
    "y_pred = kmeans.fit_predict(model.wv.vectors) # 클러스터링 결과 각 샘플의 클러스터 레이블을 리턴 받으려면 fit_predict 사용\n",
    "y_pred"
   ]
  },
  {
   "cell_type": "code",
   "execution_count": 21,
   "metadata": {},
   "outputs": [
    {
     "data": {
      "text/plain": [
       "KMeans(n_clusters=5, random_state=11)"
      ]
     },
     "execution_count": 21,
     "metadata": {},
     "output_type": "execute_result"
    }
   ],
   "source": [
    "kmeans.fit(model.wv.vectors) # 클러스터링을 수행하고 그 결과를 객체의 속성에 저장하는 것까지만 수행하려면 fit 사용"
   ]
  },
  {
   "cell_type": "code",
   "execution_count": 22,
   "metadata": {},
   "outputs": [
    {
     "data": {
      "text/plain": [
       "array([1, 2, 3, ..., 4, 4, 4])"
      ]
     },
     "execution_count": 22,
     "metadata": {},
     "output_type": "execute_result"
    }
   ],
   "source": [
    "kmeans.labels_ # 클러스터링 수행 결과가 labels_ 속성에 저장됨"
   ]
  },
  {
   "cell_type": "code",
   "execution_count": 23,
   "metadata": {},
   "outputs": [
    {
     "data": {
      "text/plain": [
       "array([[-2.22345680e-01,  1.97407305e-01,  3.87354121e-02,\n",
       "        -2.02634856e-02, -1.01098996e-02, -2.07114249e-01,\n",
       "         1.55882016e-01,  2.61591882e-01, -2.10054830e-01,\n",
       "        -5.42881079e-02, -2.32057661e-01, -2.33904779e-01,\n",
       "        -6.02666140e-02,  6.72834143e-02,  1.57292008e-01,\n",
       "        -1.78788096e-01,  1.08567595e-01, -2.08034649e-01,\n",
       "        -2.05571800e-02, -3.94633710e-01,  3.40195239e-01,\n",
       "         4.58928421e-02,  8.18681121e-02, -3.29916552e-03,\n",
       "         2.53256876e-02, -1.72519907e-01, -1.68657154e-01,\n",
       "        -2.61107177e-01, -1.95274219e-01, -3.57144661e-02,\n",
       "         1.19642787e-01,  1.62315533e-01,  8.02293569e-02,\n",
       "        -1.42342262e-02, -8.90327618e-02,  1.51943505e-01,\n",
       "        -6.76297173e-02, -1.24692619e-01, -1.16602585e-01,\n",
       "        -3.22604895e-01,  4.55990434e-02, -1.64302513e-02,\n",
       "        -7.87623897e-02,  1.59038045e-02,  7.23686665e-02,\n",
       "        -6.50879964e-02, -9.67921391e-02,  2.08934732e-02,\n",
       "         1.03775188e-01,  2.04291135e-01,  6.69182241e-02,\n",
       "        -2.01481342e-01, -3.01547758e-02, -9.27421227e-02,\n",
       "        -2.58874819e-02,  1.28338039e-01, -1.95202455e-02,\n",
       "        -4.82616164e-02, -1.65886045e-01,  9.96061713e-02,\n",
       "        -2.85918135e-02,  2.91818101e-02,  1.91654882e-03,\n",
       "        -1.32491872e-01, -2.62715757e-01,  1.22977391e-01,\n",
       "         2.41900291e-02,  7.30128437e-02, -1.39492273e-01,\n",
       "         1.40168265e-01,  1.19142737e-02,  9.56025571e-02,\n",
       "         3.40564907e-01, -1.67197540e-01,  1.86449766e-01,\n",
       "         1.26023181e-02,  1.10321797e-01, -9.37873796e-02,\n",
       "        -1.47477478e-01,  8.56282413e-02, -3.10236141e-02,\n",
       "        -3.46075185e-02, -1.85467362e-01,  1.74612388e-01,\n",
       "         1.92566998e-02,  3.45917158e-02, -1.49432048e-01,\n",
       "         1.65377066e-01,  2.58290857e-01,  2.60749385e-02,\n",
       "         1.47417396e-01,  9.17496905e-03,  2.36963779e-01,\n",
       "         5.88684268e-02,  2.84236312e-01,  3.17267589e-02,\n",
       "         3.92624363e-02, -2.10554361e-01,  1.40382826e-01,\n",
       "         5.48283793e-02],\n",
       "       [ 1.31232649e-01,  3.45944822e-01, -1.89016342e-01,\n",
       "         8.16292316e-02, -3.98410052e-01, -4.38603640e-01,\n",
       "         2.48824686e-01,  1.04158171e-01, -3.28583837e-01,\n",
       "        -2.60200143e-01, -7.91343302e-03, -6.43343508e-01,\n",
       "        -6.63140833e-01,  4.69586849e-01, -1.71710312e-01,\n",
       "         2.98511162e-02,  7.41934776e-01,  4.32825625e-01,\n",
       "        -2.95502879e-02, -2.92590797e-01,  6.17656559e-02,\n",
       "        -6.14968657e-01,  2.13770062e-01,  1.91401750e-01,\n",
       "        -1.28245413e-01,  3.82097483e-01, -2.68321633e-01,\n",
       "        -5.16259491e-01, -1.70203447e-02,  7.61667937e-02,\n",
       "         3.81107271e-01, -3.74636762e-02,  1.83280826e-01,\n",
       "        -3.19530338e-01,  1.54659569e-01, -4.91380543e-02,\n",
       "         3.46404105e-01, -1.79339737e-01,  1.27213836e-01,\n",
       "        -3.96935582e-01,  2.54306495e-01, -2.82541543e-01,\n",
       "         6.13947153e-01,  1.64272897e-02,  5.81193268e-02,\n",
       "        -4.81016010e-01, -1.89636081e-01, -6.27240166e-03,\n",
       "         8.46077025e-01,  1.05260417e-01, -2.77733058e-01,\n",
       "        -1.23527765e-01, -1.86337560e-01,  4.40543801e-01,\n",
       "        -4.80910987e-01,  1.80082202e-01,  3.24503809e-01,\n",
       "        -4.42053050e-01, -5.98305345e-01,  3.00080217e-02,\n",
       "         6.31288767e-01,  2.15526819e-01,  5.99395335e-01,\n",
       "         3.33028555e-01, -5.42875588e-01,  3.56568843e-01,\n",
       "         9.68941115e-03,  3.57521713e-01, -2.43984684e-02,\n",
       "         5.19039989e-01, -1.07326731e-01, -1.66710705e-01,\n",
       "         3.18969220e-01,  1.69628352e-01,  2.29124129e-01,\n",
       "         1.99720502e-01,  2.73813635e-01,  3.41913760e-01,\n",
       "         4.51485395e-01, -1.29936635e-01,  2.40574464e-01,\n",
       "        -2.05203235e-01,  5.00847697e-01, -1.69246495e-01,\n",
       "        -4.63935249e-02, -9.27721411e-02,  1.64731488e-01,\n",
       "         9.36083123e-02,  1.83548182e-02,  4.17115480e-01,\n",
       "        -1.46820575e-01, -8.18724185e-03, -4.62345809e-01,\n",
       "         2.70586938e-01,  1.49263024e-01,  1.11412577e-01,\n",
       "        -1.66009814e-01, -2.82720953e-01,  3.87729585e-01,\n",
       "         5.16328394e-01],\n",
       "       [ 2.31753200e-01,  6.25243410e-02,  1.66472614e-01,\n",
       "        -1.86210424e-01,  3.09389681e-01, -5.13322115e-01,\n",
       "        -7.54825696e-02,  3.77619267e-01,  1.56979144e-01,\n",
       "        -6.17488027e-01,  1.13762163e-01, -8.21710452e-02,\n",
       "        -2.23868638e-01,  2.23713577e-01,  1.99556828e-01,\n",
       "         3.25165510e-01, -6.97797760e-02, -3.34785044e-01,\n",
       "        -2.24012926e-01, -1.87974915e-01, -4.64542359e-01,\n",
       "         2.32313335e-01,  5.15662968e-01, -6.95811272e-01,\n",
       "         4.07956153e-01, -2.44887751e-02,  1.31136388e-01,\n",
       "        -1.57331064e-01,  6.89807832e-02,  3.61261845e-01,\n",
       "         1.36900395e-02, -3.70688349e-01, -3.86451259e-02,\n",
       "        -1.61582246e-01, -4.95455801e-01,  7.93743312e-01,\n",
       "         4.73223552e-02, -1.67080611e-01, -1.66285813e-01,\n",
       "        -6.22637570e-02,  1.30787238e-01, -2.03935564e-01,\n",
       "        -2.93256849e-01, -2.33703941e-01, -1.35612264e-01,\n",
       "         7.21946955e-02, -4.86290425e-01, -3.10903396e-02,\n",
       "        -1.33649558e-01,  9.08057392e-02,  3.49351257e-01,\n",
       "        -4.46824908e-01, -2.03273803e-01,  7.99484253e-02,\n",
       "         2.54531316e-02,  3.80115390e-01,  1.27860308e-01,\n",
       "         2.63943613e-01, -2.54500359e-01,  2.13322937e-02,\n",
       "        -1.84853047e-01,  2.44498521e-01, -7.33520627e-01,\n",
       "        -1.51961669e-03, -2.86621749e-02,  1.78793803e-01,\n",
       "         1.43313512e-01, -1.92009717e-01, -9.05699283e-02,\n",
       "         2.75038123e-01, -1.36522084e-01,  3.14768374e-01,\n",
       "         2.71681368e-01,  2.81721324e-01, -1.16822340e-01,\n",
       "        -1.15739919e-01, -2.12263837e-01, -1.43873587e-01,\n",
       "        -2.77292728e-01,  2.32360601e-01, -1.99370265e-01,\n",
       "         2.25317329e-01, -3.76325846e-01,  2.28319556e-01,\n",
       "        -2.59783235e-03,  3.38744745e-02,  3.34727131e-02,\n",
       "         2.93762296e-01,  3.58051628e-01,  1.85769871e-02,\n",
       "         3.80263954e-01,  5.71074128e-01, -2.14864552e-01,\n",
       "        -3.87709469e-01,  2.13530749e-01,  6.29407585e-01,\n",
       "         1.25468418e-01, -8.66228119e-02, -1.73880219e-01,\n",
       "        -2.61195868e-01],\n",
       "       [-4.21504736e-01,  5.11381865e-01, -4.89808410e-01,\n",
       "        -2.73733735e-01, -1.16955347e-01, -5.65786123e-01,\n",
       "        -6.39672577e-03,  1.49795115e-01,  1.05138637e-01,\n",
       "         3.81025016e-01, -3.32285583e-01, -2.46241152e-01,\n",
       "        -2.56076664e-01,  3.22469473e-02,  1.36113465e-01,\n",
       "        -1.14800423e-01,  3.74816507e-01, -5.76075315e-01,\n",
       "         2.47612700e-01,  3.99779081e-02,  2.45612234e-01,\n",
       "         2.87738591e-01,  9.27188993e-03,  1.41782448e-01,\n",
       "         3.95236760e-01,  8.56287777e-02, -7.09437430e-02,\n",
       "        -3.63362208e-02, -1.50059983e-01, -3.54540467e-01,\n",
       "         5.85875928e-01, -2.97947884e-01, -2.55470395e-01,\n",
       "        -1.73551708e-01,  2.26817533e-01,  4.33754623e-01,\n",
       "         4.58690263e-02, -5.61624646e-01, -1.73752621e-01,\n",
       "        -7.55719781e-01, -7.12649703e-01, -3.71778935e-01,\n",
       "        -4.02825922e-02, -3.71255800e-02, -1.13876700e-01,\n",
       "         1.48146190e-02, -2.60880709e-01,  3.94532204e-01,\n",
       "         9.85088795e-02, -4.45309758e-01, -1.47126615e-01,\n",
       "         2.41580755e-02, -1.54184997e-01,  2.50317007e-01,\n",
       "        -1.94930464e-01,  1.56003639e-01,  2.75878638e-01,\n",
       "        -4.64878231e-01, -6.63746476e-01,  4.08094883e-01,\n",
       "        -8.27523880e-04,  6.96516037e-02, -8.81865248e-02,\n",
       "        -1.12512127e-01, -2.08393961e-01,  7.97785372e-02,\n",
       "         1.24227190e-02,  1.53820157e-01, -1.81769341e-01,\n",
       "         9.45539176e-02, -3.30414593e-01, -5.73086202e-01,\n",
       "         4.63151395e-01, -4.20034051e-01,  1.54099286e-01,\n",
       "         5.68989933e-01, -5.50518095e-01,  3.31285894e-01,\n",
       "        -1.81167647e-01, -1.68331787e-01, -1.28012761e-01,\n",
       "        -2.17640638e-01,  1.39490098e-01, -7.02909291e-01,\n",
       "         1.02923222e-01,  2.03583062e-01, -2.93278545e-01,\n",
       "         2.99405575e-01,  3.90595078e-01, -2.41348013e-01,\n",
       "        -5.02848089e-01,  2.12403938e-01,  2.35723108e-01,\n",
       "        -1.26795173e-01,  1.09384649e-01,  2.46781409e-02,\n",
       "        -4.13621008e-01, -6.17462218e-01, -1.93248913e-02,\n",
       "         6.07646704e-01],\n",
       "       [-5.32249585e-02,  9.00840312e-02, -8.40862654e-03,\n",
       "        -1.00904116e-02,  4.74086218e-03, -1.06879845e-01,\n",
       "         6.94361925e-02,  1.43557057e-01, -9.28629860e-02,\n",
       "        -4.61661145e-02, -8.81028473e-02, -1.11838058e-01,\n",
       "        -5.60024828e-02,  3.77285331e-02,  7.17873797e-02,\n",
       "        -5.79350740e-02,  3.95098440e-02, -6.83474690e-02,\n",
       "         1.17202895e-03, -1.80270404e-01,  8.63544196e-02,\n",
       "         3.09640653e-02,  6.08684532e-02, -2.20267624e-02,\n",
       "         3.49751115e-02, -2.62968019e-02, -7.39997625e-02,\n",
       "        -9.42989588e-02, -9.58809108e-02,  1.69502310e-02,\n",
       "         8.39649141e-02, -1.80913415e-02,  3.57379206e-02,\n",
       "        -4.73931730e-02, -3.12834084e-02,  1.04990505e-01,\n",
       "        -9.33871418e-03, -6.28992915e-02, -5.22700064e-02,\n",
       "        -1.50082543e-01,  1.44960713e-02, -5.72490543e-02,\n",
       "        -2.42527835e-02,  7.16261892e-03,  2.28439104e-02,\n",
       "        -3.71394418e-02, -4.42951098e-02,  2.27561407e-03,\n",
       "         5.89077920e-02,  4.84975427e-02,  4.38625962e-02,\n",
       "        -1.05890974e-01,  5.40870056e-03, -1.35306399e-02,\n",
       "        -4.58760746e-02,  7.24978670e-02,  3.03299781e-02,\n",
       "        -1.56906694e-02, -1.15115076e-01,  4.50193286e-02,\n",
       "        -1.78431254e-03,  3.77299860e-02,  6.74170721e-03,\n",
       "        -2.79173590e-02, -1.15325093e-01,  1.06256723e-01,\n",
       "         1.11554749e-02,  5.21611311e-02, -8.76779780e-02,\n",
       "         8.22381452e-02, -1.95082054e-02,  3.36823761e-02,\n",
       "         1.57894835e-01, -3.74195799e-02,  8.46369117e-02,\n",
       "         3.21196392e-02,  1.37202423e-02,  2.01918073e-02,\n",
       "        -5.60931936e-02,  2.85092052e-02, -3.46393213e-02,\n",
       "        -3.16928625e-02, -9.52570662e-02,  6.70313910e-02,\n",
       "        -1.11682229e-02,  3.61075625e-03, -3.35114039e-02,\n",
       "         7.83479810e-02,  1.17478848e-01,  1.16140638e-02,\n",
       "         8.57609361e-02,  3.33112963e-02,  6.58786744e-02,\n",
       "        -6.19600713e-03,  1.22702137e-01,  6.00837171e-02,\n",
       "         2.47339029e-02, -1.10370755e-01,  6.19718730e-02,\n",
       "         2.91956849e-02]], dtype=float32)"
      ]
     },
     "execution_count": 23,
     "metadata": {},
     "output_type": "execute_result"
    }
   ],
   "source": [
    "# 각 클러스터의 센트로이드(중심)\n",
    "kmeans.cluster_centers_"
   ]
  },
  {
   "cell_type": "code",
   "execution_count": 24,
   "metadata": {},
   "outputs": [
    {
     "data": {
      "text/plain": [
       "101180.46875"
      ]
     },
     "execution_count": 24,
     "metadata": {},
     "output_type": "execute_result"
    }
   ],
   "source": [
    "# 이너셔(inertia): 각 샘플과 가장 가까운 센트로이드 사이의 평균 제곱 거리\n",
    "kmeans.inertia_"
   ]
  },
  {
   "cell_type": "code",
   "execution_count": 25,
   "metadata": {},
   "outputs": [
    {
     "data": {
      "text/plain": [
       "DBSCAN(eps=0.05)"
      ]
     },
     "execution_count": 25,
     "metadata": {},
     "output_type": "execute_result"
    }
   ],
   "source": [
    "from sklearn.cluster import DBSCAN\n",
    "\n",
    "dbscan = DBSCAN(eps=0.05, min_samples=5)\n",
    "dbscan.fit(model.wv.vectors)"
   ]
  },
  {
   "cell_type": "code",
   "execution_count": 26,
   "metadata": {},
   "outputs": [
    {
     "data": {
      "text/plain": [
       "array([-1, -1, -1, -1, -1, -1, -1, -1, -1, -1], dtype=int64)"
      ]
     },
     "execution_count": 26,
     "metadata": {},
     "output_type": "execute_result"
    }
   ],
   "source": [
    "# 각 샘플의 레이블: 핵심 샘플들의 인덱스 또는 이상치 인덱스(-1)\n",
    "dbscan.labels_[:10]"
   ]
  },
  {
   "cell_type": "code",
   "execution_count": 27,
   "metadata": {},
   "outputs": [
    {
     "data": {
      "text/plain": [
       "array([], dtype=int64)"
      ]
     },
     "execution_count": 27,
     "metadata": {},
     "output_type": "execute_result"
    }
   ],
   "source": [
    "# 핵심 샘플들의 인덱스\n",
    "dbscan.core_sample_indices_[:10]"
   ]
  },
  {
   "cell_type": "code",
   "execution_count": 28,
   "metadata": {},
   "outputs": [
    {
     "data": {
      "text/plain": [
       "array([], shape=(0, 100), dtype=float64)"
      ]
     },
     "execution_count": 28,
     "metadata": {},
     "output_type": "execute_result"
    }
   ],
   "source": [
    "# 핵심 샘플들\n",
    "dbscan.components_[:5]"
   ]
  },
  {
   "cell_type": "code",
   "execution_count": 29,
   "metadata": {},
   "outputs": [
    {
     "name": "stdout",
     "output_type": "stream",
     "text": [
      "0\n",
      "0\n"
     ]
    }
   ],
   "source": [
    "print(len(dbscan.core_sample_indices_))\n",
    "print(len(dbscan.components_))"
   ]
  },
  {
   "cell_type": "code",
   "execution_count": null,
   "metadata": {},
   "outputs": [],
   "source": [
    "# scikit-learn을 이용한 병합 클러스터링\n",
    "from sklearn.cluster import AgglomerativeClustering\n",
    "\n",
    "agg = AgglomerativeClustering(n_clusters=5, linkage=\"complete\")\n",
    "agg = agg.fit(X)"
   ]
  }
 ],
 "metadata": {
  "kernelspec": {
   "display_name": "Python 3.7.9 ('py37')",
   "language": "python",
   "name": "python3"
  },
  "language_info": {
   "codemirror_mode": {
    "name": "ipython",
    "version": 3
   },
   "file_extension": ".py",
   "mimetype": "text/x-python",
   "name": "python",
   "nbconvert_exporter": "python",
   "pygments_lexer": "ipython3",
   "version": "3.7.9"
  },
  "orig_nbformat": 4,
  "vscode": {
   "interpreter": {
    "hash": "b79a61544c9a744d09395b396d14bdc3ab2980641b64ddb1c7bc6d7b892900a0"
   }
  }
 },
 "nbformat": 4,
 "nbformat_minor": 2
}
